{
 "cells": [
  {
   "cell_type": "markdown",
   "metadata": {},
   "source": [
    "# What is the True Normal Human Body Temperature? \n",
    "\n",
    "#### Background\n",
    "\n",
    "The mean normal body temperature was held to be 37$^{\\circ}$C or 98.6$^{\\circ}$F for more than 120 years since it was first conceptualized and reported by Carl Wunderlich in a famous 1868 book. But, is this value statistically correct?"
   ]
  },
  {
   "cell_type": "markdown",
   "metadata": {},
   "source": [
    "<h3>Exercises</h3>\n",
    "\n",
    "<p>In this exercise, you will analyze a dataset of human body temperatures and employ the concepts of hypothesis testing, confidence intervals, and statistical significance.</p>\n",
    "\n",
    "<p>Answer the following questions <b>in this notebook below and submit to your Github account</b>.</p> \n",
    "\n",
    "<ol>\n",
    "<li>  Is the distribution of body temperatures normal? \n",
    "    <ul>\n",
    "    <li> Although this is not a requirement for CLT to hold (read CLT carefully), it gives us some peace of mind that the population may also be normally distributed if we assume that this sample is representative of the population.\n",
    "    </ul>\n",
    "<li>  Is the sample size large? Are the observations independent?\n",
    "    <ul>\n",
    "    <li> Remember that this is a condition for the CLT, and hence the statistical tests we are using, to apply.\n",
    "    </ul>\n",
    "<li>  Is the true population mean really 98.6 degrees F?\n",
    "    <ul>\n",
    "    <li> Would you use a one-sample or two-sample test? Why?\n",
    "    <li> In this situation, is it appropriate to use the $t$ or $z$ statistic? \n",
    "    <li> Now try using the other test. How is the result be different? Why?\n",
    "    </ul>\n",
    "<li>  Draw a small sample of size 10 from the data and repeat both tests. \n",
    "    <ul>\n",
    "    <li> Which one is the correct one to use? \n",
    "    <li> What do you notice? What does this tell you about the difference in application of the $t$ and $z$ statistic?\n",
    "    </ul>\n",
    "<li>  At what temperature should we consider someone's temperature to be \"abnormal\"?\n",
    "    <ul>\n",
    "    <li> Start by computing the margin of error and confidence interval.\n",
    "    </ul>\n",
    "<li>  Is there a significant difference between males and females in normal temperature?\n",
    "    <ul>\n",
    "    <li> What test did you use and why?\n",
    "    <li> Write a story with your conclusion in the context of the original problem.\n",
    "    </ul>\n",
    "</ol>\n",
    "\n",
    "You can include written notes in notebook cells using Markdown: \n",
    "   - In the control panel at the top, choose Cell > Cell Type > Markdown\n",
    "   - Markdown syntax: http://nestacms.com/docs/creating-content/markdown-cheat-sheet\n",
    "\n",
    "#### Resources\n",
    "\n",
    "+ Information and data sources: http://www.amstat.org/publications/jse/datasets/normtemp.txt, http://www.amstat.org/publications/jse/jse_data_archive.htm\n",
    "+ Markdown syntax: http://nestacms.com/docs/creating-content/markdown-cheat-sheet\n",
    "\n",
    "****"
   ]
  },
  {
   "cell_type": "code",
   "execution_count": 3,
   "metadata": {
    "collapsed": true
   },
   "outputs": [],
   "source": [
    "# Your work here."
   ]
  },
  {
   "cell_type": "code",
   "execution_count": 2,
   "metadata": {
    "collapsed": true
   },
   "outputs": [],
   "source": [
    "import pandas as pd\n",
    "import numpy as np\n",
    "import matplotlib.pyplot as plt\n",
    "import seaborn as sns\n",
    "import scipy.stats as stats"
   ]
  },
  {
   "cell_type": "code",
   "execution_count": 3,
   "metadata": {
    "collapsed": true
   },
   "outputs": [],
   "source": [
    "df = pd.read_csv('C:/Users/jho/Downloads/1509032434_human_temp/human_temp/data/human_body_temperature.csv')"
   ]
  },
  {
   "cell_type": "markdown",
   "metadata": {},
   "source": [
    "our null hypothesis will be that the mean of human body temperatures in our sample will be equal to 98.6 degrees farenheit."
   ]
  },
  {
   "cell_type": "code",
   "execution_count": 6,
   "metadata": {},
   "outputs": [
    {
     "data": {
      "image/png": "[encoded data removed]",
      "text/plain": [
       "<matplotlib.figure.Figure at 0x602a506080>"
      ]
     },
     "metadata": {},
     "output_type": "display_data"
    }
   ],
   "source": [
    "# 1.\n",
    "\n",
    "temperature = df['temperature']\n",
    "#print(temperature.head())\n",
    "\n",
    "plt.hist(temperature, normed=True, bins=50)\n",
    "plt.xlabel('temperature (f)')\n",
    "plt.ylabel('frequency')\n",
    "plt.title('human body temperature')\n",
    "plt.show()"
   ]
  },
  {
   "cell_type": "markdown",
   "metadata": {},
   "source": [
    "from the plot above, the data seems to be normally distrubuted for a sample of 130 but it is not perfect."
   ]
  },
  {
   "cell_type": "code",
   "execution_count": 24,
   "metadata": {},
   "outputs": [
    {
     "data": {
      "image/png": "[encoded data removed]",
      "text/plain": [
       "<matplotlib.figure.Figure at 0x602a37ff28>"
      ]
     },
     "metadata": {},
     "output_type": "display_data"
    }
   ],
   "source": [
    "x, y = ecdf(temperature)\n",
    "\n",
    "temp_theor = np.random.normal(np.mean(temperature), np.std(temperature), 10000)\n",
    "x_theor, y_theor = ecdf(temp_theor)\n",
    "\n",
    "plt.plot(x, y, marker='.', linestyle='none')\n",
    "plt.plot(x_theor, y_theor)\n",
    "plt.xlabel('temperature (f)')\n",
    "plt.ylabel('ecdf')\n",
    "plt.title('human body temperature')\n",
    "plt.show()"
   ]
  },
  {
   "cell_type": "markdown",
   "metadata": {
    "collapsed": true
   },
   "source": [
    "based on the ecdf, the sample seems to follow a normal distribution."
   ]
  },
  {
   "cell_type": "code",
   "execution_count": 54,
   "metadata": {},
   "outputs": [
    {
     "name": "stdout",
     "output_type": "stream",
     "text": [
      "<class 'pandas.core.frame.DataFrame'>\n",
      "RangeIndex: 130 entries, 0 to 129\n",
      "Data columns (total 3 columns):\n",
      "temperature    130 non-null float64\n",
      "gender         130 non-null object\n",
      "heart_rate     130 non-null float64\n",
      "dtypes: float64(2), object(1)\n",
      "memory usage: 3.1+ KB\n"
     ]
    }
   ],
   "source": [
    "# 2.\n",
    "\n",
    "df.info()"
   ]
  },
  {
   "cell_type": "markdown",
   "metadata": {},
   "source": [
    "the sample size is large enough (>30) for the central limit theorem. the results would display better results if the size were something like 500 or more observations, however.\n",
    "the observations are independent of one another."
   ]
  },
  {
   "cell_type": "code",
   "execution_count": 14,
   "metadata": {},
   "outputs": [
    {
     "data": {
      "text/html": [
       "<div>\n",
       "<style>\n",
       "    .dataframe thead tr:only-child th {\n",
       "        text-align: right;\n",
       "    }\n",
       "\n",
       "    .dataframe thead th {\n",
       "        text-align: left;\n",
       "    }\n",
       "\n",
       "    .dataframe tbody tr th {\n",
       "        vertical-align: top;\n",
       "    }\n",
       "</style>\n",
       "<table border=\"1\" class=\"dataframe\">\n",
       "  <thead>\n",
       "    <tr style=\"text-align: right;\">\n",
       "      <th></th>\n",
       "      <th>temperature</th>\n",
       "      <th>heart_rate</th>\n",
       "    </tr>\n",
       "  </thead>\n",
       "  <tbody>\n",
       "    <tr>\n",
       "      <th>count</th>\n",
       "      <td>130.000000</td>\n",
       "      <td>130.000000</td>\n",
       "    </tr>\n",
       "    <tr>\n",
       "      <th>mean</th>\n",
       "      <td>98.249231</td>\n",
       "      <td>73.761538</td>\n",
       "    </tr>\n",
       "    <tr>\n",
       "      <th>std</th>\n",
       "      <td>0.733183</td>\n",
       "      <td>7.062077</td>\n",
       "    </tr>\n",
       "    <tr>\n",
       "      <th>min</th>\n",
       "      <td>96.300000</td>\n",
       "      <td>57.000000</td>\n",
       "    </tr>\n",
       "    <tr>\n",
       "      <th>25%</th>\n",
       "      <td>97.800000</td>\n",
       "      <td>69.000000</td>\n",
       "    </tr>\n",
       "    <tr>\n",
       "      <th>50%</th>\n",
       "      <td>98.300000</td>\n",
       "      <td>74.000000</td>\n",
       "    </tr>\n",
       "    <tr>\n",
       "      <th>75%</th>\n",
       "      <td>98.700000</td>\n",
       "      <td>79.000000</td>\n",
       "    </tr>\n",
       "    <tr>\n",
       "      <th>max</th>\n",
       "      <td>100.800000</td>\n",
       "      <td>89.000000</td>\n",
       "    </tr>\n",
       "  </tbody>\n",
       "</table>\n",
       "</div>"
      ],
      "text/plain": [
       "       temperature  heart_rate\n",
       "count   130.000000  130.000000\n",
       "mean     98.249231   73.761538\n",
       "std       0.733183    7.062077\n",
       "min      96.300000   57.000000\n",
       "25%      97.800000   69.000000\n",
       "50%      98.300000   74.000000\n",
       "75%      98.700000   79.000000\n",
       "max     100.800000   89.000000"
      ]
     },
     "execution_count": 14,
     "metadata": {},
     "output_type": "execute_result"
    }
   ],
   "source": [
    "# 3.\n",
    "\n",
    "df.describe()"
   ]
  },
  {
   "cell_type": "markdown",
   "metadata": {},
   "source": [
    "the true mean of the temperature of the sample is 98.2492 degrees.\n",
    "this is off from the expected mean by about 0.35 degrees.\n",
    "\n",
    "i would use a one sample test because each observation is independent of one another.\n",
    "\n"
   ]
  },
  {
   "cell_type": "code",
   "execution_count": 16,
   "metadata": {},
   "outputs": [
    {
     "name": "stdout",
     "output_type": "stream",
     "text": [
      "p-value:  0.0\n"
     ]
    }
   ],
   "source": [
    "bs_replicates = np.empty(10000)\n",
    "\n",
    "size = len(bs_replicates)\n",
    "\n",
    "for i in range(size):\n",
    "    bs_sample = np.random.choice(temperature, len(temperature))\n",
    "    bs_replicates[i] = np.mean(bs_sample)\n",
    "    \n",
    "p = np.sum(bs_replicates >= 98.6) / size\n",
    "\n",
    "print('p-value: ', p)"
   ]
  },
  {
   "cell_type": "markdown",
   "metadata": {},
   "source": [
    "a small p-value (here, zero) suggests that the true mean of human body temperature is statistically different from the expected mean temperature, 98.6 degrees."
   ]
  },
  {
   "cell_type": "markdown",
   "metadata": {},
   "source": [
    "in this situation, it is best to use a z-statistic because the sample is larger than 30."
   ]
  },
  {
   "cell_type": "code",
   "execution_count": 29,
   "metadata": {},
   "outputs": [
    {
     "name": "stdout",
     "output_type": "stream",
     "text": [
      "z =  -5.47592520208\n",
      "2.17615758294e-08\n"
     ]
    }
   ],
   "source": [
    "# calculate the z-score\n",
    "\n",
    "z = (np.mean(temperature) - 98.6) / ((np.std(temperature)) / np.sqrt(len(temperature)))\n",
    "print('z = ', z)\n",
    "\n",
    "pz = stats.norm.sf(abs(z))\n",
    "print(pz)"
   ]
  },
  {
   "cell_type": "markdown",
   "metadata": {},
   "source": [
    "with a z-score having an absolute value of 5.4759, this can be interpreted by the number of standard deviations away from the mean. with over 5 standard deviations away from the mean, we can conclude that the true mean of human body temperature is significantly different than the expected value, 98.6. we can support this with a small p-value.\n",
    "\n",
    "the results are different from each other because we approached the problem in two different ways. a small p-value means we can reject the null hypothesis that the mean of human body temperature is 98.6. a large absolute z-score value suggests a statistically significant difference in means of human body temperature."
   ]
  },
  {
   "cell_type": "code",
   "execution_count": 44,
   "metadata": {},
   "outputs": [
    {
     "name": "stdout",
     "output_type": "stream",
     "text": [
      "[ 98.6  98.2  97.6  97.7  99.2  97.6  98.   97.6  98.6  97.1]\n"
     ]
    }
   ],
   "source": [
    "# 4.\n",
    "\n",
    "sample = np.random.choice(temperature, 10)\n",
    "print(sample)"
   ]
  },
  {
   "cell_type": "code",
   "execution_count": 45,
   "metadata": {},
   "outputs": [
    {
     "name": "stdout",
     "output_type": "stream",
     "text": [
      "0.0059496652406\n"
     ]
    }
   ],
   "source": [
    "t = (np.mean(sample) - 98.6) / ((np.std(sample)) / np.sqrt(len(sample)))\n",
    "\n",
    "p_sample_t = stats.t.sf(abs(t), 10)\n",
    "\n",
    "print(p_sample_t)"
   ]
  },
  {
   "cell_type": "code",
   "execution_count": 47,
   "metadata": {},
   "outputs": [
    {
     "name": "stdout",
     "output_type": "stream",
     "text": [
      "0.999999999998\n"
     ]
    }
   ],
   "source": [
    "z = (np.mean(sample) - 98.6) / ((np.std(sample)) / np.sqrt(len(sample)))\n",
    "\n",
    "p_sample_z = stats.norm.sf(abs(z), 10)\n",
    "\n",
    "print(p_sample_z)"
   ]
  },
  {
   "cell_type": "markdown",
   "metadata": {},
   "source": [
    "the p-values for the t statistic and z statistic are much different. t-statistics should be used with small sample sizes while z-statistics should be used with larger sample sizes with a more normal distribution. \n",
    "\n",
    "the correct measurement to use here is the t-statistic. since it is small, we can reject the null hypothesis that the mean of the sample human body temperature is equal to 98.6."
   ]
  },
  {
   "cell_type": "code",
   "execution_count": null,
   "metadata": {
    "collapsed": true
   },
   "outputs": [],
   "source": [
    "# 5."
   ]
  },
  {
   "cell_type": "markdown",
   "metadata": {},
   "source": [
    "a z-score of 1.96 is the value for a 95% confidence interval.\n",
    "\n",
    "error can be calculated by multiplying the z-score value by (standard deviation / square root of the sample size)."
   ]
  },
  {
   "cell_type": "code",
   "execution_count": 13,
   "metadata": {},
   "outputs": [
    {
     "name": "stdout",
     "output_type": "stream",
     "text": [
      "0.125550964803\n"
     ]
    }
   ],
   "source": [
    "z = 1.96\n",
    "error = z * (np.std(temperature)/np.sqrt(len(temperature)))\n",
    "print(error)"
   ]
  },
  {
   "cell_type": "markdown",
   "metadata": {},
   "source": [
    "our error value of 0.1256 suggests that the human body temperature can be estimated with 95% confidence between 98.2492 + or - 0.1256, which would be [98.1236, 98.3748].\n",
    "\n",
    "confidence interval for the perceived mean normal body temperature 98.6 degrees farenheit."
   ]
  },
  {
   "cell_type": "code",
   "execution_count": 14,
   "metadata": {},
   "outputs": [
    {
     "name": "stdout",
     "output_type": "stream",
     "text": [
      "[ 96.7225  99.4775]\n"
     ]
    }
   ],
   "source": [
    "confidence_interval_95 = np.percentile(temperature, [2.5, 97.5])\n",
    "print(confidence_interval_95)"
   ]
  },
  {
   "cell_type": "markdown",
   "metadata": {},
   "source": [
    "the 95% confidence interval of our mean of 98.6 degrees farenheit lies between 96.7225 and 99.4775 degrees farenheit. an 'abnormal' temperature would be any temperature outside of [96.7225, 99.4775]."
   ]
  },
  {
   "cell_type": "code",
   "execution_count": 16,
   "metadata": {},
   "outputs": [
    {
     "data": {
      "text/plain": [
       "0       99.3\n",
       "1       98.4\n",
       "3       99.2\n",
       "4       98.0\n",
       "8       98.4\n",
       "9       98.6\n",
       "10      98.8\n",
       "11      96.7\n",
       "13      98.7\n",
       "14      97.8\n",
       "15      98.8\n",
       "16      98.3\n",
       "18      97.2\n",
       "20      98.3\n",
       "25      98.0\n",
       "26      97.8\n",
       "27      98.2\n",
       "28      98.4\n",
       "31      97.6\n",
       "38      97.9\n",
       "39      96.4\n",
       "40      98.4\n",
       "44      99.0\n",
       "45      97.9\n",
       "50      98.9\n",
       "51      98.3\n",
       "52      98.5\n",
       "54      98.2\n",
       "55      98.6\n",
       "56      98.8\n",
       "       ...  \n",
       "68      98.7\n",
       "70      98.1\n",
       "71      97.7\n",
       "76      98.0\n",
       "80      98.8\n",
       "83      99.2\n",
       "84      98.6\n",
       "86      98.6\n",
       "91     100.0\n",
       "92      98.8\n",
       "95      96.8\n",
       "96      99.9\n",
       "97      98.7\n",
       "98      98.8\n",
       "102     98.0\n",
       "103     99.4\n",
       "108     98.7\n",
       "110     98.8\n",
       "111     98.0\n",
       "112     98.2\n",
       "113     99.1\n",
       "116    100.8\n",
       "117     97.8\n",
       "119     98.4\n",
       "120     97.7\n",
       "121     97.9\n",
       "122     99.0\n",
       "123     97.2\n",
       "127     98.2\n",
       "129     98.7\n",
       "Name: temperature, Length: 65, dtype: float64"
      ]
     },
     "execution_count": 16,
     "metadata": {},
     "output_type": "execute_result"
    }
   ],
   "source": [
    "# 6.\n",
    "\n",
    "males = df[df['gender'] == 'M']['temperature']\n",
    "males\n",
    "females = df[df['gender'] == 'F']['temperature']\n",
    "females"
   ]
  },
  {
   "cell_type": "markdown",
   "metadata": {},
   "source": [
    "we can test a null hypothesis that males and females do not have a significant difference in body temperature."
   ]
  },
  {
   "cell_type": "code",
   "execution_count": 19,
   "metadata": {},
   "outputs": [
    {
     "name": "stdout",
     "output_type": "stream",
     "text": [
      "difference between males and females average body temperature = 0.289230769230727\n"
     ]
    }
   ],
   "source": [
    "difference = abs(diff_of_means(males, females))\n",
    "print('difference between males and females average body temperature =', difference)"
   ]
  },
  {
   "cell_type": "code",
   "execution_count": 27,
   "metadata": {},
   "outputs": [
    {
     "data": {
      "image/png": "[encoded data removed]",
      "text/plain": [
       "<matplotlib.figure.Figure at 0x601ea27d30>"
      ]
     },
     "metadata": {},
     "output_type": "display_data"
    }
   ],
   "source": [
    "x_male, y_male = ecdf(males)\n",
    "x_female, y_female = ecdf(males)\n",
    "\n",
    "plt.plot(x_male, y_male, marker='.', linestyle='none', color='blue')\n",
    "plt.plot(x_female, y_female, marker='.', linestyle='none', color='red', alpha=0.5)\n",
    "plt.xlabel('temperature (f)')\n",
    "plt.ylabel('ecdf')\n",
    "plt.legend(('male', 'female'), loc='best')\n",
    "plt.title('male vs female body temperature')\n",
    "plt.show()"
   ]
  },
  {
   "cell_type": "markdown",
   "metadata": {},
   "source": [
    "based on the ecdf, the data points nearly overlap. we should confirm if there is a significant difference by calculating the p-value. this can be done with permutation sampling."
   ]
  },
  {
   "cell_type": "code",
   "execution_count": 33,
   "metadata": {},
   "outputs": [
    {
     "name": "stdout",
     "output_type": "stream",
     "text": [
      "p =  0.0247\n"
     ]
    }
   ],
   "source": [
    "perm_replicates = np.empty(10000)\n",
    "size = len(perm_replicates)\n",
    "males_and_females = np.concatenate((males, females))\n",
    "\n",
    "for i in range(size):\n",
    "    perm_sample = np.random.permutation(males_and_females)\n",
    "    male_perm = perm_sample[:len(males)]\n",
    "    female_perm = perm_sample[len(males):]\n",
    "    perm_replicates[i] = abs(np.mean(male_perm) - np.mean(female_perm))\n",
    "\n",
    "p = np.sum(perm_replicates >= difference)/len(perm_replicates)\n",
    "\n",
    "print('p = ', p)"
   ]
  },
  {
   "cell_type": "markdown",
   "metadata": {},
   "source": [
    "since the p-value is small (2 * p < 0.05 for two tailed test), we can reject our null hypothesis. therefore, males and females have statistically different mean body temperatures.  "
   ]
  },
  {
   "cell_type": "code",
   "execution_count": 17,
   "metadata": {
    "collapsed": true
   },
   "outputs": [],
   "source": [
    "# these functions may come in handy later\n",
    "\n",
    "def ecdf(data):\n",
    "    \"\"\"Compute ECDF for a one-dimensional array of measurements.\"\"\"\n",
    "\n",
    "    # Number of data points: n\n",
    "    n = len(data)\n",
    "\n",
    "    # x-data for the ECDF: x\n",
    "    x = np.sort(data)\n",
    "\n",
    "    # y-data for the ECDF: y\n",
    "    y = np.arange(1, n+1) / n\n",
    "\n",
    "    return x, y\n",
    "\n",
    "def draw_perm_reps(data_1, data_2, func, size=1):\n",
    "    \"\"\"Generate multiple permutation replicates.\"\"\"\n",
    "\n",
    "    # Initialize array of replicates: perm_replicates\n",
    "    perm_replicates = np.empty(size)\n",
    "\n",
    "    for i in range(size):\n",
    "        # Generate permutation sample\n",
    "        perm_sample_1, perm_sample_2 = permutation_sample(data_1, data_2)\n",
    "\n",
    "        # Compute the test statistic\n",
    "        perm_replicates[i] = func(perm_sample_1, perm_sample_2)\n",
    "        \n",
    "    return perm_replicates\n",
    "\n",
    "def draw_bs_pairs(x, y, func, size=1):\n",
    "    \"\"\"Perform pairs bootstrap for linear regression.\"\"\"\n",
    "\n",
    "    # Set up array of indices to sample from: inds\n",
    "    inds = np.arange(len(x))\n",
    "\n",
    "    # Initialize replicates\n",
    "    bs_replicates = np.empty(size)\n",
    "\n",
    "    # Generate replicates\n",
    "    for i in range(size):\n",
    "        bs_inds = np.random.choice(inds, len(inds))\n",
    "        bs_x, bs_y = x[bs_inds], y[bs_inds]\n",
    "        bs_replicates[i] = func(bs_x, bs_y)\n",
    "\n",
    "    return bs_replicates\n",
    "\n",
    "def draw_bs_reps(data, func, size=1):\n",
    "    \"\"\"Draw bootstrap replicates.\"\"\"\n",
    "\n",
    "    # Initialize array of replicates: bs_replicates\n",
    "    bs_replicates = np.empty(size)\n",
    "\n",
    "    # Generate replicates\n",
    "    for i in range(size):\n",
    "        bs_replicates[i] = bootstrap_replicate_1d(data, func)\n",
    "\n",
    "    return bs_replicates\n",
    "\n",
    "def bootstrap_replicate_1d(data, func):\n",
    "\n",
    "    bs_sample = np.random.choice(data, len(data))\n",
    "\n",
    "    return func(bs_sample)\n",
    "\n",
    "def draw_bs_pairs_linreg(x, y, size=1):\n",
    "    \"\"\"Perform pairs bootstrap for linear regression.\"\"\"\n",
    "\n",
    "    # Set up array of indices to sample from: inds\n",
    "    inds = np.arange(len(x))\n",
    "\n",
    "    # Initialize replicates: bs_slope_reps, bs_intercept_reps\n",
    "    bs_slope_reps = np.empty(size)\n",
    "    bs_intercept_reps = np.empty(size)\n",
    "\n",
    "    # Generate replicates\n",
    "    for i in range(size):\n",
    "        bs_inds = np.random.choice(inds, size=len(inds))\n",
    "        bs_x, bs_y = x[bs_inds], y[bs_inds]\n",
    "        bs_slope_reps[i], bs_intercept_reps[i] = np.polyfit(bs_x, bs_y, 1)\n",
    "\n",
    "    return bs_slope_reps, bs_intercept_reps\n",
    "\n",
    "def diff_of_means(data_1, data_2):\n",
    "    \"\"\"Difference in means of two arrays.\"\"\"\n",
    "\n",
    "    # The difference of means of data_1, data_2: diff\n",
    "    diff = np.mean(data_1) - np.mean(data_2)\n",
    "\n",
    "    return diff"
   ]
  }
 ],
 "metadata": {
  "kernelspec": {
   "display_name": "Python 3",
   "language": "python",
   "name": "python3"
  },
  "language_info": {
   "codemirror_mode": {
    "name": "ipython",
    "version": 3
   },
   "file_extension": ".py",
   "mimetype": "text/x-python",
   "name": "python",
   "nbconvert_exporter": "python",
   "pygments_lexer": "ipython3",
   "version": "3.6.3"
  }
 },
 "nbformat": 4,
 "nbformat_minor": 1
}
